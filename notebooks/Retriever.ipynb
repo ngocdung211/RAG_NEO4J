{
 "cells": [
  {
   "cell_type": "code",
   "execution_count": 1,
   "metadata": {},
   "outputs": [],
   "source": [
    "import sys\n",
    "\n",
    "sys.path.append('../')"
   ]
  },
  {
   "cell_type": "code",
   "execution_count": 2,
   "metadata": {},
   "outputs": [
    {
     "data": {
      "text/plain": [
       "VectorStoreRetriever(tags=['Neo4jVector', 'OpenAIEmbeddings'], vectorstore=<langchain.vectorstores.neo4j_vector.Neo4jVector object at 0x16a1877d0>)"
      ]
     },
     "execution_count": 2,
     "metadata": {},
     "output_type": "execute_result"
    }
   ],
   "source": [
    "\n",
    "from handlers.vector import retriever\n",
    "\n",
    "retriever\n"
   ]
  },
  {
   "cell_type": "code",
   "execution_count": 3,
   "metadata": {},
   "outputs": [
    {
     "data": {
      "text/plain": [
       "[Document(page_content='Henry Hill and his friends work their way up through the mob hierarchy.', metadata={'budget': 25000000, 'movieId': '1213', 'tmdbId': '769', 'imdbVotes': 698495, 'runtime': 146, 'countries': ['USA'], 'imdbId': '0099685', 'url': 'https://themoviedb.org/movie/769', 'released': '1990-09-21', 'languages': ['English', ' Italian'], 'imdbRating': 8.7, 'title': 'Goodfellas', 'poster': 'https://image.tmdb.org/t/p/w440_and_h660_face/oErEczcVUmJm0EPdvWsvK4g4Lv3.jpg', 'year': 1990, 'revenue': 46836394}),\n",
       " Document(page_content='A former Prohibition-era Jewish gangster returns to the Lower East Side of Manhattan over thirty years later, where he once again must confront the ghosts and regrets of his old life.', metadata={'budget': 20000000, 'movieId': '1227', 'tmdbId': '311', 'imdbVotes': 212573, 'runtime': 229, 'countries': ['Italy', ' USA'], 'imdbId': '0087843', 'url': 'https://themoviedb.org/movie/311', 'released': '1984-06-01', 'languages': ['English', ' Italian', ' French'], 'imdbRating': 8.4, 'title': 'Once Upon a Time in America', 'poster': 'https://image.tmdb.org/t/p/w440_and_h660_face/hBDHr3YihnuL46aeyEMhTchXkZP.jpg', 'year': 1984, 'revenue': 5472914}),\n",
       " Document(page_content='The aging patriarch of an organized crime dynasty transfers control of his clandestine empire to his reluctant son.', metadata={'budget': 6000000, 'movieId': '858', 'tmdbId': '238', 'imdbVotes': 1110051, 'runtime': 175, 'countries': ['USA'], 'imdbId': '0068646', 'url': 'https://themoviedb.org/movie/238', 'released': '1972-03-24', 'languages': ['English', ' Italian', ' Latin'], 'imdbRating': 9.2, 'title': 'Godfather, The', 'poster': 'https://image.tmdb.org/t/p/w440_and_h660_face/iVZ3JAcAjmguGPnRNfWFOtLHOuY.jpg', 'year': 1972, 'revenue': 245066411}),\n",
       " Document(page_content='A mobster travels to Hollywood to collect a debt and discovers that the movie business is much the same as his current job.', metadata={'budget': 30250000, 'movieId': '21', 'tmdbId': '8012', 'imdbVotes': 61591, 'runtime': 105, 'countries': ['USA'], 'imdbId': '0113161', 'url': 'https://themoviedb.org/movie/8012', 'released': '1995-10-20', 'languages': ['English'], 'imdbRating': 6.9, 'title': 'Get Shorty', 'poster': 'https://image.tmdb.org/t/p/w440_and_h660_face/5XSVAyHmTCFOWaqEQ0LUHh3yssB.jpg', 'year': 1995, 'revenue': 115101622})]"
      ]
     },
     "execution_count": 3,
     "metadata": {},
     "output_type": "execute_result"
    }
   ],
   "source": [
    "retriever.get_relevant_documents('recommend a film similar to goodfellas')"
   ]
  },
  {
   "cell_type": "code",
   "execution_count": null,
   "metadata": {},
   "outputs": [],
   "source": []
  }
 ],
 "metadata": {
  "kernelspec": {
   "display_name": "Python 3",
   "language": "python",
   "name": "python3"
  },
  "language_info": {
   "codemirror_mode": {
    "name": "ipython",
    "version": 3
   },
   "file_extension": ".py",
   "mimetype": "text/x-python",
   "name": "python",
   "nbconvert_exporter": "python",
   "pygments_lexer": "ipython3",
   "version": "3.11.5"
  }
 },
 "nbformat": 4,
 "nbformat_minor": 2
}
